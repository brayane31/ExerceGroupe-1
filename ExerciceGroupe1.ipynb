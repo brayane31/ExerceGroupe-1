{
 "cells": [
  {
   "cell_type": "code",
   "execution_count": 1,
   "id": "5cbd8b73",
   "metadata": {},
   "outputs": [],
   "source": [
    "import pandas as pd\n",
    "import random"
   ]
  },
  {
   "cell_type": "code",
   "execution_count": 2,
   "id": "0573028f",
   "metadata": {},
   "outputs": [],
   "source": [
    "data = pd.read_excel('liste-classe.xlsx')"
   ]
  },
  {
   "cell_type": "code",
   "execution_count": 3,
   "id": "d2b23521",
   "metadata": {},
   "outputs": [],
   "source": [
    "df = pd.DataFrame(data)"
   ]
  },
  {
   "cell_type": "code",
   "execution_count": 4,
   "id": "5302b52b",
   "metadata": {},
   "outputs": [
    {
     "name": "stdout",
     "output_type": "stream",
     "text": [
      "Entrez un nombre pour découper la liste de classe : 3\n",
      "Groupe 1:\n",
      "                               Nom\n",
      "8       Soumahoro Aboubacar Siriki\n",
      "16  Allah Amon Aya Noemie Cyrielle\n",
      "0         AYE SEKA SEKA JOEL ENOCK\n",
      "Groupe 2:\n",
      "                                  Nom\n",
      "24  Yesufu Muhamad Olamide Babatunde \n",
      "11                    Sanogo Mouhamed\n",
      "9            KOUASSI JAKE ARIEL MOUAE\n",
      "Groupe 3:\n",
      "                            Nom\n",
      "13  SAMBOU Diassy Mame Florence\n",
      "1          Adama Kouadio Landry\n",
      "23    DRAME Abdoul Razak Daouda\n",
      "Groupe 4:\n",
      "                           Nom\n",
      "5   kra adelphe benoit kouadio\n",
      "2        Kouadio KOUAKOU KADER\n",
      "12     ALLANGBA Amenan Cyrille\n",
      "Groupe 5:\n",
      "                           Nom\n",
      "15    KOUASSI Grâce Emmanuella\n",
      "3                 Camara Adama\n",
      "4   Adua Kouakou jean Philippe\n",
      "Groupe 6:\n",
      "                            Nom\n",
      "21              Niat Lynn-Aurea\n",
      "17  GNIMI Gbate Julienne Desiré\n",
      "22                 Koné Libasse\n",
      "Groupe 7:\n",
      "                                  Nom\n",
      "18            N'guessan AUDREY CARENE\n",
      "25  Yapo Bruce Bernadin Evrard Junior\n",
      "20                       Tiho Gnimeta\n",
      "Groupe 8:\n",
      "                               Nom\n",
      "7    OUADEBA Cheick Billa Youssouf\n",
      "10                 GOLI YAO HUGUES\n",
      "14  AYEPO Leyo Therese Marie Grace\n",
      "Groupe 9:\n",
      "                            Nom\n",
      "19  Koffi Akoua Blanche larissa\n",
      "6       kouame ezekiel wilfried\n"
     ]
    }
   ],
   "source": [
    "\n",
    "while True:\n",
    "    try:\n",
    "        num = int(input(\"Entrez un nombre pour découper la liste de classe : \"))\n",
    "    except ValueError:\n",
    "        print(\"Ce n'est pas un nombre valide.\")\n",
    "        continue\n",
    "    if num <= 0:\n",
    "        print(\"Le nombre n'est pas valide Il doit être compris entre 1 et\", len(df))\n",
    "        continue\n",
    "    else:\n",
    "        break\n",
    "\n",
    "shuffled_df = df.sample(frac=1, random_state=42)\n",
    "parts = [shuffled_df.iloc[i:i+num] for i in range(0, len(shuffled_df), num)]\n",
    "for i, part in enumerate(parts):\n",
    "    print(f\"Groupe {i + 1}:\")\n",
    "    print(part)\n",
    "\n"
   ]
  },
  {
   "cell_type": "code",
   "execution_count": null,
   "id": "4c03c63d",
   "metadata": {},
   "outputs": [],
   "source": []
  }
 ],
 "metadata": {
  "kernelspec": {
   "display_name": "Python 3 (ipykernel)",
   "language": "python",
   "name": "python3"
  },
  "language_info": {
   "codemirror_mode": {
    "name": "ipython",
    "version": 3
   },
   "file_extension": ".py",
   "mimetype": "text/x-python",
   "name": "python",
   "nbconvert_exporter": "python",
   "pygments_lexer": "ipython3",
   "version": "3.11.4"
  }
 },
 "nbformat": 4,
 "nbformat_minor": 5
}
